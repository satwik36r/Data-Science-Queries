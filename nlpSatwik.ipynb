{
  "nbformat": 4,
  "nbformat_minor": 0,
  "metadata": {
    "colab": {
      "name": "nlpSatwik.ipynb",
      "provenance": []
    },
    "kernelspec": {
      "name": "python3",
      "display_name": "Python 3"
    }
  },
  "cells": [
    {
      "cell_type": "code",
      "metadata": {
        "id": "dX7PctWoO2ei"
      },
      "source": [
        "import nltk"
      ],
      "execution_count": 1,
      "outputs": []
    },
    {
      "cell_type": "code",
      "metadata": {
        "colab": {
          "base_uri": "https://localhost:8080/"
        },
        "id": "8D4aZxq1PCw2",
        "outputId": "2300c5f5-91d4-407f-9284-23ce15b60127"
      },
      "source": [
        "nltk.download('gutenberg')"
      ],
      "execution_count": 2,
      "outputs": [
        {
          "output_type": "stream",
          "text": [
            "[nltk_data] Downloading package gutenberg to /root/nltk_data...\n",
            "[nltk_data]   Unzipping corpora/gutenberg.zip.\n"
          ],
          "name": "stdout"
        },
        {
          "output_type": "execute_result",
          "data": {
            "text/plain": [
              "True"
            ]
          },
          "metadata": {
            "tags": []
          },
          "execution_count": 2
        }
      ]
    },
    {
      "cell_type": "code",
      "metadata": {
        "id": "-KXHmshUPOiH"
      },
      "source": [
        "file5 = nltk.corpus.gutenberg.fileids( )[5]"
      ],
      "execution_count": 4,
      "outputs": []
    },
    {
      "cell_type": "code",
      "metadata": {
        "colab": {
          "base_uri": "https://localhost:8080/",
          "height": 35
        },
        "id": "2fI56wI_PYyK",
        "outputId": "fd23826f-b30b-4ccb-b24c-fe0e314ed0b9"
      },
      "source": [
        "file5"
      ],
      "execution_count": 5,
      "outputs": [
        {
          "output_type": "execute_result",
          "data": {
            "application/vnd.google.colaboratory.intrinsic+json": {
              "type": "string"
            },
            "text/plain": [
              "'bryant-stories.txt'"
            ]
          },
          "metadata": {
            "tags": []
          },
          "execution_count": 5
        }
      ]
    },
    {
      "cell_type": "code",
      "metadata": {
        "id": "7n7SCvZUPoF7"
      },
      "source": [
        "emmatext = nltk.corpus.gutenberg.raw(file5)"
      ],
      "execution_count": 6,
      "outputs": []
    },
    {
      "cell_type": "code",
      "metadata": {
        "colab": {
          "base_uri": "https://localhost:8080/"
        },
        "id": "wQ880arNPujW",
        "outputId": "0f210f08-226c-4cc3-cc77-00b61a61ddbd"
      },
      "source": [
        "len(emmatext)"
      ],
      "execution_count": 7,
      "outputs": [
        {
          "output_type": "execute_result",
          "data": {
            "text/plain": [
              "249439"
            ]
          },
          "metadata": {
            "tags": []
          },
          "execution_count": 7
        }
      ]
    },
    {
      "cell_type": "code",
      "metadata": {
        "colab": {
          "base_uri": "https://localhost:8080/"
        },
        "id": "ndjOtMawPwtU",
        "outputId": "67b45e2f-0d54-4966-b565-357db5504b73"
      },
      "source": [
        "nltk.download('punkt')\r\n",
        "emmatokens = nltk.word_tokenize(emmatext)"
      ],
      "execution_count": 9,
      "outputs": [
        {
          "output_type": "stream",
          "text": [
            "[nltk_data] Downloading package punkt to /root/nltk_data...\n",
            "[nltk_data]   Unzipping tokenizers/punkt.zip.\n"
          ],
          "name": "stdout"
        }
      ]
    },
    {
      "cell_type": "code",
      "metadata": {
        "colab": {
          "base_uri": "https://localhost:8080/"
        },
        "id": "Es5_aXAbP1cG",
        "outputId": "d7594191-5d7f-4cbd-e640-2a073294ccb4"
      },
      "source": [
        "len(emmatokens)"
      ],
      "execution_count": 10,
      "outputs": [
        {
          "output_type": "execute_result",
          "data": {
            "text/plain": [
              "55621"
            ]
          },
          "metadata": {
            "tags": []
          },
          "execution_count": 10
        }
      ]
    },
    {
      "cell_type": "code",
      "metadata": {
        "id": "RfraaHZeQan7"
      },
      "source": [
        "emmawords = [w.lower( ) for w in emmatokens]"
      ],
      "execution_count": 11,
      "outputs": []
    },
    {
      "cell_type": "code",
      "metadata": {
        "id": "0Z3q5rryQeQb",
        "outputId": "fb47f156-dfc7-461b-9c7c-0214a502a37c",
        "colab": {
          "base_uri": "https://localhost:8080/"
        }
      },
      "source": [
        "len(emmawords)"
      ],
      "execution_count": 12,
      "outputs": [
        {
          "output_type": "execute_result",
          "data": {
            "text/plain": [
              "55621"
            ]
          },
          "metadata": {
            "tags": []
          },
          "execution_count": 12
        }
      ]
    },
    {
      "cell_type": "code",
      "metadata": {
        "id": "Kh3LkKHXQhxm"
      },
      "source": [
        " emmavocab = sorted(set(emmawords))"
      ],
      "execution_count": 13,
      "outputs": []
    },
    {
      "cell_type": "code",
      "metadata": {
        "id": "19tRrgOnQl0q"
      },
      "source": [
        "from nltk import FreqDist"
      ],
      "execution_count": 14,
      "outputs": []
    },
    {
      "cell_type": "code",
      "metadata": {
        "id": "yNkN87lUQrki"
      },
      "source": [
        "fdist = FreqDist(emmawords)\r\n",
        "fdistkeys = list(fdist.keys())"
      ],
      "execution_count": 15,
      "outputs": []
    },
    {
      "cell_type": "code",
      "metadata": {
        "id": "v9GHksZrQum2",
        "outputId": "d30d2b9d-fcd5-4417-ae84-c8fc6bbed5a0",
        "colab": {
          "base_uri": "https://localhost:8080/"
        }
      },
      "source": [
        "fdistkeys[:30]"
      ],
      "execution_count": 16,
      "outputs": [
        {
          "output_type": "execute_result",
          "data": {
            "text/plain": [
              "['[',\n",
              " 'stories',\n",
              " 'to',\n",
              " 'tell',\n",
              " 'children',\n",
              " 'by',\n",
              " 'sara',\n",
              " 'cone',\n",
              " 'bryant',\n",
              " '1918',\n",
              " ']',\n",
              " 'two',\n",
              " 'little',\n",
              " 'riddles',\n",
              " 'in',\n",
              " 'rhyme',\n",
              " 'there',\n",
              " \"'s\",\n",
              " 'a',\n",
              " 'garden',\n",
              " 'that',\n",
              " 'i',\n",
              " 'ken',\n",
              " ',',\n",
              " 'full',\n",
              " 'of',\n",
              " 'gentlemen',\n",
              " ';',\n",
              " 'caps',\n",
              " 'blue']"
            ]
          },
          "metadata": {
            "tags": []
          },
          "execution_count": 16
        }
      ]
    },
    {
      "cell_type": "code",
      "metadata": {
        "id": "uwm3t4fsQ1YL"
      },
      "source": [
        "topkeys = fdist.most_common(30)"
      ],
      "execution_count": 17,
      "outputs": []
    },
    {
      "cell_type": "code",
      "metadata": {
        "id": "UM8A0bItQ7hB",
        "outputId": "827607b8-011e-45f2-b178-1ddab085afb1",
        "colab": {
          "base_uri": "https://localhost:8080/"
        }
      },
      "source": [
        "for pair in topkeys:\r\n",
        "    print(pair)\r\n"
      ],
      "execution_count": 18,
      "outputs": [
        {
          "output_type": "stream",
          "text": [
            "(',', 3855)\n",
            "('the', 3449)\n",
            "('and', 2097)\n",
            "('.', 2049)\n",
            "('to', 1158)\n",
            "('a', 1028)\n",
            "('he', 1016)\n",
            "(\"''\", 970)\n",
            "('of', 818)\n",
            "('``', 805)\n",
            "('was', 720)\n",
            "('in', 640)\n",
            "('it', 614)\n",
            "('little', 596)\n",
            "('his', 551)\n",
            "('that', 531)\n",
            "('i', 531)\n",
            "(';', 520)\n",
            "('!', 475)\n",
            "('you', 462)\n",
            "('said', 453)\n",
            "('she', 409)\n",
            "('they', 396)\n",
            "('for', 339)\n",
            "('as', 327)\n",
            "('but', 308)\n",
            "('him', 296)\n",
            "('so', 295)\n",
            "('had', 295)\n",
            "('her', 291)\n"
          ],
          "name": "stdout"
        }
      ]
    },
    {
      "cell_type": "code",
      "metadata": {
        "id": "_8VsiXL_Q_-7"
      },
      "source": [
        "numwords = len(emmawords)"
      ],
      "execution_count": 19,
      "outputs": []
    },
    {
      "cell_type": "code",
      "metadata": {
        "id": "WlNoRC0aRDO8"
      },
      "source": [
        "topkeysnormalized = [(word, freq / numwords) for (word, freq) in topkeys]"
      ],
      "execution_count": 21,
      "outputs": []
    },
    {
      "cell_type": "code",
      "metadata": {
        "id": "NYy0Y19tRFa6",
        "outputId": "f33b93f4-7e8a-4d6b-92e0-7c6b87733600",
        "colab": {
          "base_uri": "https://localhost:8080/"
        }
      },
      "source": [
        "for pair in topkeysnormalized:\r\n",
        "          print(pair)\r\n"
      ],
      "execution_count": 22,
      "outputs": [
        {
          "output_type": "stream",
          "text": [
            "(',', 0.06930835475809496)\n",
            "('the', 0.06200895345283256)\n",
            "('and', 0.037701587529889787)\n",
            "('.', 0.03683860412434153)\n",
            "('to', 0.020819474658851873)\n",
            "('a', 0.01848222793549199)\n",
            "('he', 0.018266482084104925)\n",
            "(\"''\", 0.017439456320454506)\n",
            "('of', 0.014706675536218334)\n",
            "('``', 0.014472950863882346)\n",
            "('was', 0.012944751083223962)\n",
            "('in', 0.011506445407310188)\n",
            "('it', 0.011038996062638213)\n",
            "('little', 0.010715377285557614)\n",
            "('his', 0.009906330342856115)\n",
            "('that', 0.009546753923877672)\n",
            "('i', 0.009546753923877672)\n",
            "(';', 0.009348986893439529)\n",
            "('!', 0.00853993995073803)\n",
            "('you', 0.008306215278402043)\n",
            "('said', 0.008144405889861744)\n",
            "('she', 0.007353337768109167)\n",
            "('they', 0.007119613095773179)\n",
            "('for', 0.006094820301684616)\n",
            "('as', 0.00587907445029755)\n",
            "('but', 0.005537476852268028)\n",
            "('him', 0.0053217310008809625)\n",
            "('so', 0.00530375217993204)\n",
            "('had', 0.00530375217993204)\n",
            "('her', 0.005231836896136351)\n"
          ],
          "name": "stdout"
        }
      ]
    },
    {
      "cell_type": "code",
      "metadata": {
        "id": "8AllbGrsRONl"
      },
      "source": [
        ""
      ],
      "execution_count": null,
      "outputs": []
    }
  ]
}